{
  "nbformat": 4,
  "nbformat_minor": 0,
  "metadata": {
    "colab": {
      "name": "Copy of Wine Quality Linear Regression.ipynb",
      "provenance": [],
      "collapsed_sections": []
    },
    "kernelspec": {
      "name": "python3",
      "display_name": "Python 3"
    }
  },
  "cells": [
    {
      "cell_type": "code",
      "metadata": {
        "id": "mg2ZryWkGsLd",
        "colab_type": "code",
        "colab": {}
      },
      "source": [
        "# Import libraries necessary for this project\n",
        "import sys\n",
        "import numpy as np\n",
        "import pandas as pd\n",
        "from pandas import set_option\n",
        "import matplotlib.pyplot as plt\n",
        "from scipy import stats\n",
        "%matplotlib inline\n",
        "np.set_printoptions(threshold=sys.maxsize)\n",
        "\n",
        "from sklearn.linear_model import LinearRegression\n",
        "from sklearn.metrics import mean_squared_error"
      ],
      "execution_count": 0,
      "outputs": []
    },
    {
      "cell_type": "code",
      "metadata": {
        "id": "fczrmzWwJyn1",
        "colab_type": "code",
        "colab": {}
      },
      "source": [
        "# Import training data\n",
        "xlsx = pd.ExcelFile('Data_Train.xlsx')\n",
        "df = pd.read_excel(xlsx)"
      ],
      "execution_count": 0,
      "outputs": []
    },
    {
      "cell_type": "code",
      "metadata": {
        "id": "jp30dopmKWKx",
        "colab_type": "code",
        "outputId": "4a856cdb-e3c5-4c79-9ad0-392c2d51925f",
        "colab": {
          "base_uri": "https://localhost:8080/",
          "height": 272
        }
      },
      "source": [
        "df.head()"
      ],
      "execution_count": 0,
      "outputs": [
        {
          "output_type": "execute_result",
          "data": {
            "text/html": [
              "<div>\n",
              "<style scoped>\n",
              "    .dataframe tbody tr th:only-of-type {\n",
              "        vertical-align: middle;\n",
              "    }\n",
              "\n",
              "    .dataframe tbody tr th {\n",
              "        vertical-align: top;\n",
              "    }\n",
              "\n",
              "    .dataframe thead th {\n",
              "        text-align: right;\n",
              "    }\n",
              "</style>\n",
              "<table border=\"1\" class=\"dataframe\">\n",
              "  <thead>\n",
              "    <tr style=\"text-align: right;\">\n",
              "      <th></th>\n",
              "      <th>Restaurant</th>\n",
              "      <th>Location</th>\n",
              "      <th>Cuisines</th>\n",
              "      <th>Average_Cost</th>\n",
              "      <th>Minimum_Order</th>\n",
              "      <th>Rating</th>\n",
              "      <th>Votes</th>\n",
              "      <th>Reviews</th>\n",
              "      <th>Delivery_Time</th>\n",
              "    </tr>\n",
              "  </thead>\n",
              "  <tbody>\n",
              "    <tr>\n",
              "      <th>0</th>\n",
              "      <td>ID_6321</td>\n",
              "      <td>FTI College, Law College Road, Pune</td>\n",
              "      <td>Fast Food, Rolls, Burger, Salad, Wraps</td>\n",
              "      <td>₹200</td>\n",
              "      <td>₹50</td>\n",
              "      <td>3.5</td>\n",
              "      <td>12</td>\n",
              "      <td>4</td>\n",
              "      <td>30 minutes</td>\n",
              "    </tr>\n",
              "    <tr>\n",
              "      <th>1</th>\n",
              "      <td>ID_2882</td>\n",
              "      <td>Sector 3, Marathalli</td>\n",
              "      <td>Ice Cream, Desserts</td>\n",
              "      <td>₹100</td>\n",
              "      <td>₹50</td>\n",
              "      <td>3.5</td>\n",
              "      <td>11</td>\n",
              "      <td>4</td>\n",
              "      <td>30 minutes</td>\n",
              "    </tr>\n",
              "    <tr>\n",
              "      <th>2</th>\n",
              "      <td>ID_1595</td>\n",
              "      <td>Mumbai Central</td>\n",
              "      <td>Italian, Street Food, Fast Food</td>\n",
              "      <td>₹150</td>\n",
              "      <td>₹50</td>\n",
              "      <td>3.6</td>\n",
              "      <td>99</td>\n",
              "      <td>30</td>\n",
              "      <td>65 minutes</td>\n",
              "    </tr>\n",
              "    <tr>\n",
              "      <th>3</th>\n",
              "      <td>ID_5929</td>\n",
              "      <td>Sector 1, Noida</td>\n",
              "      <td>Mughlai, North Indian, Chinese</td>\n",
              "      <td>₹250</td>\n",
              "      <td>₹99</td>\n",
              "      <td>3.7</td>\n",
              "      <td>176</td>\n",
              "      <td>95</td>\n",
              "      <td>30 minutes</td>\n",
              "    </tr>\n",
              "    <tr>\n",
              "      <th>4</th>\n",
              "      <td>ID_6123</td>\n",
              "      <td>Rmz Centennial, I Gate, Whitefield</td>\n",
              "      <td>Cafe, Beverages</td>\n",
              "      <td>₹200</td>\n",
              "      <td>₹99</td>\n",
              "      <td>3.2</td>\n",
              "      <td>521</td>\n",
              "      <td>235</td>\n",
              "      <td>65 minutes</td>\n",
              "    </tr>\n",
              "  </tbody>\n",
              "</table>\n",
              "</div>"
            ],
            "text/plain": [
              "  Restaurant                             Location  ... Reviews Delivery_Time\n",
              "0    ID_6321  FTI College, Law College Road, Pune  ...       4    30 minutes\n",
              "1    ID_2882                 Sector 3, Marathalli  ...       4    30 minutes\n",
              "2    ID_1595                       Mumbai Central  ...      30    65 minutes\n",
              "3    ID_5929                      Sector 1, Noida  ...      95    30 minutes\n",
              "4    ID_6123   Rmz Centennial, I Gate, Whitefield  ...     235    65 minutes\n",
              "\n",
              "[5 rows x 9 columns]"
            ]
          },
          "metadata": {
            "tags": []
          },
          "execution_count": 3
        }
      ]
    },
    {
      "cell_type": "code",
      "metadata": {
        "id": "HcY61RazK3dI",
        "colab_type": "code",
        "outputId": "4dcc06cf-2434-4d6c-9d3b-b17b56d4023e",
        "colab": {
          "base_uri": "https://localhost:8080/",
          "height": 68
        }
      },
      "source": [
        "df.columns"
      ],
      "execution_count": 0,
      "outputs": [
        {
          "output_type": "execute_result",
          "data": {
            "text/plain": [
              "Index(['Restaurant', 'Location', 'Cuisines', 'Average_Cost', 'Minimum_Order',\n",
              "       'Rating', 'Votes', 'Reviews', 'Delivery_Time'],\n",
              "      dtype='object')"
            ]
          },
          "metadata": {
            "tags": []
          },
          "execution_count": 4
        }
      ]
    },
    {
      "cell_type": "code",
      "metadata": {
        "id": "wmvMXIGHK_Zx",
        "colab_type": "code",
        "outputId": "7796f91e-2e72-416e-f464-25d32965bbca",
        "colab": {
          "base_uri": "https://localhost:8080/",
          "height": 255
        }
      },
      "source": [
        "df.info()"
      ],
      "execution_count": 0,
      "outputs": [
        {
          "output_type": "stream",
          "text": [
            "<class 'pandas.core.frame.DataFrame'>\n",
            "RangeIndex: 11094 entries, 0 to 11093\n",
            "Data columns (total 9 columns):\n",
            "Restaurant       11094 non-null object\n",
            "Location         11094 non-null object\n",
            "Cuisines         11094 non-null object\n",
            "Average_Cost     11094 non-null object\n",
            "Minimum_Order    11094 non-null object\n",
            "Rating           11094 non-null object\n",
            "Votes            11094 non-null object\n",
            "Reviews          11094 non-null object\n",
            "Delivery_Time    11094 non-null object\n",
            "dtypes: object(9)\n",
            "memory usage: 780.2+ KB\n"
          ],
          "name": "stdout"
        }
      ]
    },
    {
      "cell_type": "code",
      "metadata": {
        "id": "vZ3_f2biLPkY",
        "colab_type": "code",
        "outputId": "b3596ed5-caee-4784-b723-cfd836a7d4f2",
        "colab": {
          "base_uri": "https://localhost:8080/",
          "height": 190
        }
      },
      "source": [
        "df.describe()"
      ],
      "execution_count": 0,
      "outputs": [
        {
          "output_type": "execute_result",
          "data": {
            "text/html": [
              "<div>\n",
              "<style scoped>\n",
              "    .dataframe tbody tr th:only-of-type {\n",
              "        vertical-align: middle;\n",
              "    }\n",
              "\n",
              "    .dataframe tbody tr th {\n",
              "        vertical-align: top;\n",
              "    }\n",
              "\n",
              "    .dataframe thead th {\n",
              "        text-align: right;\n",
              "    }\n",
              "</style>\n",
              "<table border=\"1\" class=\"dataframe\">\n",
              "  <thead>\n",
              "    <tr style=\"text-align: right;\">\n",
              "      <th></th>\n",
              "      <th>Restaurant</th>\n",
              "      <th>Location</th>\n",
              "      <th>Cuisines</th>\n",
              "      <th>Average_Cost</th>\n",
              "      <th>Minimum_Order</th>\n",
              "      <th>Rating</th>\n",
              "      <th>Votes</th>\n",
              "      <th>Reviews</th>\n",
              "      <th>Delivery_Time</th>\n",
              "    </tr>\n",
              "  </thead>\n",
              "  <tbody>\n",
              "    <tr>\n",
              "      <th>count</th>\n",
              "      <td>11094</td>\n",
              "      <td>11094</td>\n",
              "      <td>11094</td>\n",
              "      <td>11094</td>\n",
              "      <td>11094</td>\n",
              "      <td>11094</td>\n",
              "      <td>11094</td>\n",
              "      <td>11094</td>\n",
              "      <td>11094</td>\n",
              "    </tr>\n",
              "    <tr>\n",
              "      <th>unique</th>\n",
              "      <td>7480</td>\n",
              "      <td>35</td>\n",
              "      <td>2179</td>\n",
              "      <td>26</td>\n",
              "      <td>18</td>\n",
              "      <td>33</td>\n",
              "      <td>1103</td>\n",
              "      <td>761</td>\n",
              "      <td>7</td>\n",
              "    </tr>\n",
              "    <tr>\n",
              "      <th>top</th>\n",
              "      <td>ID_7184</td>\n",
              "      <td>Mico Layout, Stage 2, BTM Layout,Bangalore</td>\n",
              "      <td>North Indian</td>\n",
              "      <td>₹200</td>\n",
              "      <td>₹50</td>\n",
              "      <td>-</td>\n",
              "      <td>-</td>\n",
              "      <td>-</td>\n",
              "      <td>30 minutes</td>\n",
              "    </tr>\n",
              "    <tr>\n",
              "      <th>freq</th>\n",
              "      <td>22</td>\n",
              "      <td>947</td>\n",
              "      <td>850</td>\n",
              "      <td>3241</td>\n",
              "      <td>10118</td>\n",
              "      <td>1191</td>\n",
              "      <td>2074</td>\n",
              "      <td>2312</td>\n",
              "      <td>7406</td>\n",
              "    </tr>\n",
              "  </tbody>\n",
              "</table>\n",
              "</div>"
            ],
            "text/plain": [
              "       Restaurant  ... Delivery_Time\n",
              "count       11094  ...         11094\n",
              "unique       7480  ...             7\n",
              "top       ID_7184  ...    30 minutes\n",
              "freq           22  ...          7406\n",
              "\n",
              "[4 rows x 9 columns]"
            ]
          },
          "metadata": {
            "tags": []
          },
          "execution_count": 6
        }
      ]
    },
    {
      "cell_type": "code",
      "metadata": {
        "id": "QDvD-FCPYcxM",
        "colab_type": "code",
        "colab": {}
      },
      "source": [
        "# Create function for change str to float\n",
        "f1 = lambda x: x.strip('₹')\n",
        "f2 = lambda x: x.replace('for','181.79')\n",
        "f3 = lambda x: x.replace(\",\",\"\")\n",
        "f4 = lambda x: float(x)\n",
        "f5 = lambda x: x.replace('-','3.416441')\n",
        "f6 = lambda x: x.replace('NEW','3.416441')\n",
        "f7 = lambda x: x.replace('Opening Soon','3.416441')\n",
        "f8 = lambda x: x.replace('Temporarily Closed','3.416441')\n",
        "f9 = lambda x: x.replace(' minutes','')\n",
        "f10 = lambda x: x.replace('-','199.294754')\n",
        "f11 = lambda x: x.replace('-','98.083919')"
      ],
      "execution_count": 0,
      "outputs": []
    },
    {
      "cell_type": "code",
      "metadata": {
        "id": "rCYym98ePzKF",
        "colab_type": "code",
        "colab": {}
      },
      "source": [
        "# Apply function on pandas.series\n",
        "df.Average_Cost = df.Average_Cost.apply(f1)\n",
        "df.Average_Cost = df.Average_Cost.apply(f2)\n",
        "df.Average_Cost = df.Average_Cost.apply(f3)\n",
        "df.Average_Cost = df.Average_Cost.apply(f4)"
      ],
      "execution_count": 0,
      "outputs": []
    },
    {
      "cell_type": "code",
      "metadata": {
        "id": "gdwMyB91UH5i",
        "colab_type": "code",
        "colab": {}
      },
      "source": [
        "df.Minimum_Order = df.Minimum_Order.apply(f1)\n",
        "df.Minimum_Order = df.Minimum_Order.apply(f3)\n",
        "df.Minimum_Order = df.Minimum_Order.apply(f4)"
      ],
      "execution_count": 0,
      "outputs": []
    },
    {
      "cell_type": "code",
      "metadata": {
        "id": "m2j22Dg2Xt5n",
        "colab_type": "code",
        "colab": {}
      },
      "source": [
        "df.Rating = df.Rating.apply(f5)\n",
        "df.Rating = df.Rating.apply(f6)\n",
        "df.Rating = df.Rating.apply(f7)\n",
        "df.Rating = df.Rating.apply(f8)\n",
        "df.Rating = df.Rating.apply(f4)"
      ],
      "execution_count": 0,
      "outputs": []
    },
    {
      "cell_type": "code",
      "metadata": {
        "id": "dPWUrV7TZFQn",
        "colab_type": "code",
        "colab": {}
      },
      "source": [
        "df.Votes = df.Votes.apply(f10)\n",
        "df.Votes = df.Votes.apply(f4)"
      ],
      "execution_count": 0,
      "outputs": []
    },
    {
      "cell_type": "code",
      "metadata": {
        "id": "wCvmLNJlZKMA",
        "colab_type": "code",
        "colab": {}
      },
      "source": [
        "df.Reviews = df.Reviews.apply(f11)\n",
        "df.Reviews = df.Reviews.apply(f4)"
      ],
      "execution_count": 0,
      "outputs": []
    },
    {
      "cell_type": "code",
      "metadata": {
        "id": "_Zb5jvOKZOz6",
        "colab_type": "code",
        "colab": {}
      },
      "source": [
        "df.Delivery_Time = df.Delivery_Time.apply(f9)\n",
        "df.Delivery_Time = df.Delivery_Time.apply(f4)"
      ],
      "execution_count": 0,
      "outputs": []
    },
    {
      "cell_type": "code",
      "metadata": {
        "id": "t2231h2qtdjj",
        "colab_type": "code",
        "outputId": "be3e7ed8-3615-4fd9-8358-9bb7f09e4a26",
        "colab": {
          "base_uri": "https://localhost:8080/",
          "height": 810
        }
      },
      "source": [
        "# Show data frame fillter by having the same Restaurant id\n",
        "x = df.Restaurant.value_counts()[df.Restaurant.value_counts()>1]\n",
        "x = pd.DataFrame(x)\n",
        "df[df.Restaurant.isin(x.index)].sort_values(by='Restaurant') "
      ],
      "execution_count": 0,
      "outputs": [
        {
          "output_type": "execute_result",
          "data": {
            "text/html": [
              "<div>\n",
              "<style scoped>\n",
              "    .dataframe tbody tr th:only-of-type {\n",
              "        vertical-align: middle;\n",
              "    }\n",
              "\n",
              "    .dataframe tbody tr th {\n",
              "        vertical-align: top;\n",
              "    }\n",
              "\n",
              "    .dataframe thead th {\n",
              "        text-align: right;\n",
              "    }\n",
              "</style>\n",
              "<table border=\"1\" class=\"dataframe\">\n",
              "  <thead>\n",
              "    <tr style=\"text-align: right;\">\n",
              "      <th></th>\n",
              "      <th>Restaurant</th>\n",
              "      <th>Location</th>\n",
              "      <th>Cuisines</th>\n",
              "      <th>Average_Cost</th>\n",
              "      <th>Minimum_Order</th>\n",
              "      <th>Rating</th>\n",
              "      <th>Votes</th>\n",
              "      <th>Reviews</th>\n",
              "      <th>Delivery_Time</th>\n",
              "    </tr>\n",
              "  </thead>\n",
              "  <tbody>\n",
              "    <tr>\n",
              "      <th>814</th>\n",
              "      <td>ID_1004</td>\n",
              "      <td>Rmz Centennial, I Gate, Whitefield</td>\n",
              "      <td>Street Food</td>\n",
              "      <td>50.0</td>\n",
              "      <td>50.0</td>\n",
              "      <td>3.416441</td>\n",
              "      <td>199.294754</td>\n",
              "      <td>98.083919</td>\n",
              "      <td>30.0</td>\n",
              "    </tr>\n",
              "    <tr>\n",
              "      <th>6568</th>\n",
              "      <td>ID_1004</td>\n",
              "      <td>Sector 3, Marathalli</td>\n",
              "      <td>Street Food</td>\n",
              "      <td>50.0</td>\n",
              "      <td>50.0</td>\n",
              "      <td>3.416441</td>\n",
              "      <td>199.294754</td>\n",
              "      <td>98.083919</td>\n",
              "      <td>30.0</td>\n",
              "    </tr>\n",
              "    <tr>\n",
              "      <th>9216</th>\n",
              "      <td>ID_1004</td>\n",
              "      <td>Sandhurst Road, Mumbai CST Area</td>\n",
              "      <td>Fast Food, Sandwich</td>\n",
              "      <td>100.0</td>\n",
              "      <td>50.0</td>\n",
              "      <td>3.000000</td>\n",
              "      <td>4.000000</td>\n",
              "      <td>1.000000</td>\n",
              "      <td>30.0</td>\n",
              "    </tr>\n",
              "    <tr>\n",
              "      <th>261</th>\n",
              "      <td>ID_1004</td>\n",
              "      <td>Mumbai Central</td>\n",
              "      <td>Fast Food, Sandwich</td>\n",
              "      <td>100.0</td>\n",
              "      <td>50.0</td>\n",
              "      <td>3.000000</td>\n",
              "      <td>4.000000</td>\n",
              "      <td>1.000000</td>\n",
              "      <td>30.0</td>\n",
              "    </tr>\n",
              "    <tr>\n",
              "      <th>6496</th>\n",
              "      <td>ID_1006</td>\n",
              "      <td>Sandhurst Road, Mumbai CST Area</td>\n",
              "      <td>Lebanese</td>\n",
              "      <td>100.0</td>\n",
              "      <td>50.0</td>\n",
              "      <td>3.700000</td>\n",
              "      <td>60.000000</td>\n",
              "      <td>23.000000</td>\n",
              "      <td>30.0</td>\n",
              "    </tr>\n",
              "    <tr>\n",
              "      <th>...</th>\n",
              "      <td>...</td>\n",
              "      <td>...</td>\n",
              "      <td>...</td>\n",
              "      <td>...</td>\n",
              "      <td>...</td>\n",
              "      <td>...</td>\n",
              "      <td>...</td>\n",
              "      <td>...</td>\n",
              "      <td>...</td>\n",
              "    </tr>\n",
              "    <tr>\n",
              "      <th>5979</th>\n",
              "      <td>ID_992</td>\n",
              "      <td>Delhi Administration Flats, Timarpur</td>\n",
              "      <td>Asian, Japanese, Korean, Chinese, Momos, Thai</td>\n",
              "      <td>600.0</td>\n",
              "      <td>50.0</td>\n",
              "      <td>4.400000</td>\n",
              "      <td>1990.000000</td>\n",
              "      <td>1091.000000</td>\n",
              "      <td>30.0</td>\n",
              "    </tr>\n",
              "    <tr>\n",
              "      <th>1567</th>\n",
              "      <td>ID_996</td>\n",
              "      <td>Dockyard Road, Mumbai CST Area</td>\n",
              "      <td>Desserts</td>\n",
              "      <td>50.0</td>\n",
              "      <td>50.0</td>\n",
              "      <td>3.416441</td>\n",
              "      <td>199.294754</td>\n",
              "      <td>98.083919</td>\n",
              "      <td>45.0</td>\n",
              "    </tr>\n",
              "    <tr>\n",
              "      <th>2190</th>\n",
              "      <td>ID_996</td>\n",
              "      <td>Sandhurst Road, Mumbai CST Area</td>\n",
              "      <td>Desserts</td>\n",
              "      <td>50.0</td>\n",
              "      <td>50.0</td>\n",
              "      <td>3.416441</td>\n",
              "      <td>199.294754</td>\n",
              "      <td>98.083919</td>\n",
              "      <td>45.0</td>\n",
              "    </tr>\n",
              "    <tr>\n",
              "      <th>7179</th>\n",
              "      <td>ID_999</td>\n",
              "      <td>Sector 14, Noida</td>\n",
              "      <td>North Indian, Chinese, Continental, Italian</td>\n",
              "      <td>350.0</td>\n",
              "      <td>99.0</td>\n",
              "      <td>4.000000</td>\n",
              "      <td>1389.000000</td>\n",
              "      <td>888.000000</td>\n",
              "      <td>65.0</td>\n",
              "    </tr>\n",
              "    <tr>\n",
              "      <th>7549</th>\n",
              "      <td>ID_999</td>\n",
              "      <td>Sector 1, Noida</td>\n",
              "      <td>North Indian, Chinese, Continental, Italian</td>\n",
              "      <td>350.0</td>\n",
              "      <td>99.0</td>\n",
              "      <td>4.000000</td>\n",
              "      <td>1389.000000</td>\n",
              "      <td>888.000000</td>\n",
              "      <td>65.0</td>\n",
              "    </tr>\n",
              "  </tbody>\n",
              "</table>\n",
              "<p>5748 rows × 9 columns</p>\n",
              "</div>"
            ],
            "text/plain": [
              "     Restaurant  ... Delivery_Time\n",
              "814     ID_1004  ...          30.0\n",
              "6568    ID_1004  ...          30.0\n",
              "9216    ID_1004  ...          30.0\n",
              "261     ID_1004  ...          30.0\n",
              "6496    ID_1006  ...          30.0\n",
              "...         ...  ...           ...\n",
              "5979     ID_992  ...          30.0\n",
              "1567     ID_996  ...          45.0\n",
              "2190     ID_996  ...          45.0\n",
              "7179     ID_999  ...          65.0\n",
              "7549     ID_999  ...          65.0\n",
              "\n",
              "[5748 rows x 9 columns]"
            ]
          },
          "metadata": {
            "tags": []
          },
          "execution_count": 16
        }
      ]
    },
    {
      "cell_type": "code",
      "metadata": {
        "id": "BCXV36_INHps",
        "colab_type": "code",
        "colab": {}
      },
      "source": [
        "# Label encoder order is alphabetical\n",
        "#from sklearn.preprocessing import LabelEncoder\n",
        "#labelencoder_X = LabelEncoder()\n",
        "#df['Location'] = labelencoder_X.fit_transform(df['Location'])\n",
        "#df['Cuisines'] = labelencoder_X.fit_transform(df['Cuisines'])"
      ],
      "execution_count": 0,
      "outputs": []
    },
    {
      "cell_type": "code",
      "metadata": {
        "id": "5GMFiB5gaiyY",
        "colab_type": "code",
        "outputId": "ae273456-8df6-4ff1-a7ba-c2c0e92f5dab",
        "colab": {
          "base_uri": "https://localhost:8080/",
          "height": 297
        }
      },
      "source": [
        "df.describe()"
      ],
      "execution_count": 0,
      "outputs": [
        {
          "output_type": "execute_result",
          "data": {
            "text/html": [
              "<div>\n",
              "<style scoped>\n",
              "    .dataframe tbody tr th:only-of-type {\n",
              "        vertical-align: middle;\n",
              "    }\n",
              "\n",
              "    .dataframe tbody tr th {\n",
              "        vertical-align: top;\n",
              "    }\n",
              "\n",
              "    .dataframe thead th {\n",
              "        text-align: right;\n",
              "    }\n",
              "</style>\n",
              "<table border=\"1\" class=\"dataframe\">\n",
              "  <thead>\n",
              "    <tr style=\"text-align: right;\">\n",
              "      <th></th>\n",
              "      <th>Average_Cost</th>\n",
              "      <th>Minimum_Order</th>\n",
              "      <th>Rating</th>\n",
              "      <th>Votes</th>\n",
              "      <th>Reviews</th>\n",
              "      <th>Delivery_Time</th>\n",
              "    </tr>\n",
              "  </thead>\n",
              "  <tbody>\n",
              "    <tr>\n",
              "      <th>count</th>\n",
              "      <td>11094.000000</td>\n",
              "      <td>11094.000000</td>\n",
              "      <td>11094.000000</td>\n",
              "      <td>11094.000000</td>\n",
              "      <td>11094.000000</td>\n",
              "      <td>11094.000000</td>\n",
              "    </tr>\n",
              "    <tr>\n",
              "      <th>mean</th>\n",
              "      <td>202.707030</td>\n",
              "      <td>53.344511</td>\n",
              "      <td>3.578599</td>\n",
              "      <td>236.085120</td>\n",
              "      <td>118.003698</td>\n",
              "      <td>37.056066</td>\n",
              "    </tr>\n",
              "    <tr>\n",
              "      <th>std</th>\n",
              "      <td>129.833411</td>\n",
              "      <td>18.551245</td>\n",
              "      <td>0.383342</td>\n",
              "      <td>500.831242</td>\n",
              "      <td>285.801524</td>\n",
              "      <td>12.447496</td>\n",
              "    </tr>\n",
              "    <tr>\n",
              "      <th>min</th>\n",
              "      <td>50.000000</td>\n",
              "      <td>0.000000</td>\n",
              "      <td>2.100000</td>\n",
              "      <td>3.000000</td>\n",
              "      <td>1.000000</td>\n",
              "      <td>10.000000</td>\n",
              "    </tr>\n",
              "    <tr>\n",
              "      <th>25%</th>\n",
              "      <td>100.000000</td>\n",
              "      <td>50.000000</td>\n",
              "      <td>3.400000</td>\n",
              "      <td>26.000000</td>\n",
              "      <td>11.000000</td>\n",
              "      <td>30.000000</td>\n",
              "    </tr>\n",
              "    <tr>\n",
              "      <th>50%</th>\n",
              "      <td>200.000000</td>\n",
              "      <td>50.000000</td>\n",
              "      <td>3.500000</td>\n",
              "      <td>106.000000</td>\n",
              "      <td>48.000000</td>\n",
              "      <td>30.000000</td>\n",
              "    </tr>\n",
              "    <tr>\n",
              "      <th>75%</th>\n",
              "      <td>200.000000</td>\n",
              "      <td>50.000000</td>\n",
              "      <td>3.800000</td>\n",
              "      <td>199.294754</td>\n",
              "      <td>98.083919</td>\n",
              "      <td>45.000000</td>\n",
              "    </tr>\n",
              "    <tr>\n",
              "      <th>max</th>\n",
              "      <td>2050.000000</td>\n",
              "      <td>500.000000</td>\n",
              "      <td>4.900000</td>\n",
              "      <td>9054.000000</td>\n",
              "      <td>6504.000000</td>\n",
              "      <td>120.000000</td>\n",
              "    </tr>\n",
              "  </tbody>\n",
              "</table>\n",
              "</div>"
            ],
            "text/plain": [
              "       Average_Cost  Minimum_Order  ...       Reviews  Delivery_Time\n",
              "count  11094.000000   11094.000000  ...  11094.000000   11094.000000\n",
              "mean     202.707030      53.344511  ...    118.003698      37.056066\n",
              "std      129.833411      18.551245  ...    285.801524      12.447496\n",
              "min       50.000000       0.000000  ...      1.000000      10.000000\n",
              "25%      100.000000      50.000000  ...     11.000000      30.000000\n",
              "50%      200.000000      50.000000  ...     48.000000      30.000000\n",
              "75%      200.000000      50.000000  ...     98.083919      45.000000\n",
              "max     2050.000000     500.000000  ...   6504.000000     120.000000\n",
              "\n",
              "[8 rows x 6 columns]"
            ]
          },
          "metadata": {
            "tags": []
          },
          "execution_count": 18
        }
      ]
    },
    {
      "cell_type": "code",
      "metadata": {
        "id": "FllKnqwNNfwF",
        "colab_type": "code",
        "outputId": "589067b2-02a2-4c4b-ef01-1f68ba407f1e",
        "colab": {
          "base_uri": "https://localhost:8080/",
          "height": 340
        }
      },
      "source": [
        "df.tail()"
      ],
      "execution_count": 0,
      "outputs": [
        {
          "output_type": "execute_result",
          "data": {
            "text/html": [
              "<div>\n",
              "<style scoped>\n",
              "    .dataframe tbody tr th:only-of-type {\n",
              "        vertical-align: middle;\n",
              "    }\n",
              "\n",
              "    .dataframe tbody tr th {\n",
              "        vertical-align: top;\n",
              "    }\n",
              "\n",
              "    .dataframe thead th {\n",
              "        text-align: right;\n",
              "    }\n",
              "</style>\n",
              "<table border=\"1\" class=\"dataframe\">\n",
              "  <thead>\n",
              "    <tr style=\"text-align: right;\">\n",
              "      <th></th>\n",
              "      <th>Restaurant</th>\n",
              "      <th>Location</th>\n",
              "      <th>Cuisines</th>\n",
              "      <th>Average_Cost</th>\n",
              "      <th>Minimum_Order</th>\n",
              "      <th>Rating</th>\n",
              "      <th>Votes</th>\n",
              "      <th>Reviews</th>\n",
              "      <th>Delivery_Time</th>\n",
              "    </tr>\n",
              "  </thead>\n",
              "  <tbody>\n",
              "    <tr>\n",
              "      <th>11089</th>\n",
              "      <td>ID_8067</td>\n",
              "      <td>BTM Layout 1, Electronic City</td>\n",
              "      <td>Tibetan, Chinese, Continental, Momos</td>\n",
              "      <td>250.0</td>\n",
              "      <td>50.0</td>\n",
              "      <td>4.200000</td>\n",
              "      <td>326.000000</td>\n",
              "      <td>189.000000</td>\n",
              "      <td>30.0</td>\n",
              "    </tr>\n",
              "    <tr>\n",
              "      <th>11090</th>\n",
              "      <td>ID_4620</td>\n",
              "      <td>Sector 14, Noida</td>\n",
              "      <td>Fast Food</td>\n",
              "      <td>100.0</td>\n",
              "      <td>50.0</td>\n",
              "      <td>3.600000</td>\n",
              "      <td>36.000000</td>\n",
              "      <td>16.000000</td>\n",
              "      <td>30.0</td>\n",
              "    </tr>\n",
              "    <tr>\n",
              "      <th>11091</th>\n",
              "      <td>ID_3392</td>\n",
              "      <td>Majestic</td>\n",
              "      <td>South Indian, Chinese, North Indian</td>\n",
              "      <td>100.0</td>\n",
              "      <td>50.0</td>\n",
              "      <td>3.500000</td>\n",
              "      <td>45.000000</td>\n",
              "      <td>18.000000</td>\n",
              "      <td>30.0</td>\n",
              "    </tr>\n",
              "    <tr>\n",
              "      <th>11092</th>\n",
              "      <td>ID_4115</td>\n",
              "      <td>Sector 3, Marathalli</td>\n",
              "      <td>North Indian</td>\n",
              "      <td>100.0</td>\n",
              "      <td>50.0</td>\n",
              "      <td>3.100000</td>\n",
              "      <td>24.000000</td>\n",
              "      <td>9.000000</td>\n",
              "      <td>30.0</td>\n",
              "    </tr>\n",
              "    <tr>\n",
              "      <th>11093</th>\n",
              "      <td>ID_4417</td>\n",
              "      <td>Sector 63A,Gurgaon</td>\n",
              "      <td>North Indian</td>\n",
              "      <td>100.0</td>\n",
              "      <td>50.0</td>\n",
              "      <td>3.416441</td>\n",
              "      <td>199.294754</td>\n",
              "      <td>98.083919</td>\n",
              "      <td>30.0</td>\n",
              "    </tr>\n",
              "  </tbody>\n",
              "</table>\n",
              "</div>"
            ],
            "text/plain": [
              "      Restaurant                       Location  ...     Reviews  Delivery_Time\n",
              "11089    ID_8067  BTM Layout 1, Electronic City  ...  189.000000           30.0\n",
              "11090    ID_4620               Sector 14, Noida  ...   16.000000           30.0\n",
              "11091    ID_3392                       Majestic  ...   18.000000           30.0\n",
              "11092    ID_4115           Sector 3, Marathalli  ...    9.000000           30.0\n",
              "11093    ID_4417             Sector 63A,Gurgaon  ...   98.083919           30.0\n",
              "\n",
              "[5 rows x 9 columns]"
            ]
          },
          "metadata": {
            "tags": []
          },
          "execution_count": 19
        }
      ]
    },
    {
      "cell_type": "code",
      "metadata": {
        "id": "4PqBKD3IOFtv",
        "colab_type": "code",
        "outputId": "a2095fcf-1db2-4705-99b7-1758072bfc14",
        "colab": {
          "base_uri": "https://localhost:8080/",
          "height": 235
        }
      },
      "source": [
        "# Calculate correlation\n",
        "set_option('precision', 2)\n",
        "df.corr(method='pearson') # data frame correlation"
      ],
      "execution_count": 0,
      "outputs": [
        {
          "output_type": "execute_result",
          "data": {
            "text/html": [
              "<div>\n",
              "<style scoped>\n",
              "    .dataframe tbody tr th:only-of-type {\n",
              "        vertical-align: middle;\n",
              "    }\n",
              "\n",
              "    .dataframe tbody tr th {\n",
              "        vertical-align: top;\n",
              "    }\n",
              "\n",
              "    .dataframe thead th {\n",
              "        text-align: right;\n",
              "    }\n",
              "</style>\n",
              "<table border=\"1\" class=\"dataframe\">\n",
              "  <thead>\n",
              "    <tr style=\"text-align: right;\">\n",
              "      <th></th>\n",
              "      <th>Average_Cost</th>\n",
              "      <th>Minimum_Order</th>\n",
              "      <th>Rating</th>\n",
              "      <th>Votes</th>\n",
              "      <th>Reviews</th>\n",
              "      <th>Delivery_Time</th>\n",
              "    </tr>\n",
              "  </thead>\n",
              "  <tbody>\n",
              "    <tr>\n",
              "      <th>Average_Cost</th>\n",
              "      <td>1.00</td>\n",
              "      <td>0.12</td>\n",
              "      <td>0.38</td>\n",
              "      <td>0.44</td>\n",
              "      <td>0.45</td>\n",
              "      <td>0.18</td>\n",
              "    </tr>\n",
              "    <tr>\n",
              "      <th>Minimum_Order</th>\n",
              "      <td>0.12</td>\n",
              "      <td>1.00</td>\n",
              "      <td>0.08</td>\n",
              "      <td>0.12</td>\n",
              "      <td>0.12</td>\n",
              "      <td>0.25</td>\n",
              "    </tr>\n",
              "    <tr>\n",
              "      <th>Rating</th>\n",
              "      <td>0.38</td>\n",
              "      <td>0.08</td>\n",
              "      <td>1.00</td>\n",
              "      <td>0.45</td>\n",
              "      <td>0.43</td>\n",
              "      <td>0.16</td>\n",
              "    </tr>\n",
              "    <tr>\n",
              "      <th>Votes</th>\n",
              "      <td>0.44</td>\n",
              "      <td>0.12</td>\n",
              "      <td>0.45</td>\n",
              "      <td>1.00</td>\n",
              "      <td>0.96</td>\n",
              "      <td>0.20</td>\n",
              "    </tr>\n",
              "    <tr>\n",
              "      <th>Reviews</th>\n",
              "      <td>0.45</td>\n",
              "      <td>0.12</td>\n",
              "      <td>0.43</td>\n",
              "      <td>0.96</td>\n",
              "      <td>1.00</td>\n",
              "      <td>0.17</td>\n",
              "    </tr>\n",
              "    <tr>\n",
              "      <th>Delivery_Time</th>\n",
              "      <td>0.18</td>\n",
              "      <td>0.25</td>\n",
              "      <td>0.16</td>\n",
              "      <td>0.20</td>\n",
              "      <td>0.17</td>\n",
              "      <td>1.00</td>\n",
              "    </tr>\n",
              "  </tbody>\n",
              "</table>\n",
              "</div>"
            ],
            "text/plain": [
              "               Average_Cost  Minimum_Order  ...  Reviews  Delivery_Time\n",
              "Average_Cost           1.00           0.12  ...     0.45           0.18\n",
              "Minimum_Order          0.12           1.00  ...     0.12           0.25\n",
              "Rating                 0.38           0.08  ...     0.43           0.16\n",
              "Votes                  0.44           0.12  ...     0.96           0.20\n",
              "Reviews                0.45           0.12  ...     1.00           0.17\n",
              "Delivery_Time          0.18           0.25  ...     0.17           1.00\n",
              "\n",
              "[6 rows x 6 columns]"
            ]
          },
          "metadata": {
            "tags": []
          },
          "execution_count": 20
        }
      ]
    },
    {
      "cell_type": "code",
      "metadata": {
        "id": "izvME7paOXIR",
        "colab_type": "code",
        "outputId": "7e22c8fb-128f-49cf-8825-ee0579538288",
        "colab": {
          "base_uri": "https://localhost:8080/",
          "height": 356
        }
      },
      "source": [
        "#library to establish correlation\n",
        "import seaborn as sns\n",
        "names = []\n",
        "#creating a correlation matrix\n",
        "correlations_ps = df.corr()\n",
        "sns.heatmap(correlations_ps,square = True, cmap = \"YlGnBu\")\n",
        "plt.yticks(rotation=0)\n",
        "plt.xticks(rotation=90)\n",
        "plt.show"
      ],
      "execution_count": 0,
      "outputs": [
        {
          "output_type": "execute_result",
          "data": {
            "text/plain": [
              "<function matplotlib.pyplot.show>"
            ]
          },
          "metadata": {
            "tags": []
          },
          "execution_count": 21
        },
        {
          "output_type": "display_data",
          "data": {
            "image/png": "[encoded data removed]",
            "text/plain": [
              "<Figure size 432x288 with 2 Axes>"
            ]
          },
          "metadata": {
            "tags": []
          }
        }
      ]
    },
    {
      "cell_type": "code",
      "metadata": {
        "id": "Id4pe4rqNtVG",
        "colab_type": "code",
        "outputId": "74cd8cf6-d631-4dcc-ddad-a7dfb0b4f88e",
        "colab": {
          "base_uri": "https://localhost:8080/",
          "height": 607
        }
      },
      "source": [
        "# Plot histogram\n",
        "df.hist(bins=30,figsize=(15,10),grid=False);"
      ],
      "execution_count": 0,
      "outputs": [
        {
          "output_type": "display_data",
          "data": {
            "image/png": "[encoded data removed]",
            "text/plain": [
              "<Figure size 1080x720 with 6 Axes>"
            ]
          },
          "metadata": {
            "tags": []
          }
        }
      ]
    },
    {
      "cell_type": "code",
      "metadata": {
        "id": "-IkG31EG1Tpr",
        "colab_type": "code",
        "colab": {}
      },
      "source": [
        "# Select only numerical data\n",
        "df = df[['Average_Cost', 'Minimum_Order',\n",
        "       'Rating', 'Votes', 'Reviews', 'Delivery_Time']]"
      ],
      "execution_count": 0,
      "outputs": []
    },
    {
      "cell_type": "code",
      "metadata": {
        "id": "1FyJI_2e1eCr",
        "colab_type": "code",
        "outputId": "2b3cb15d-c186-47f0-d32e-860a90615d70",
        "colab": {
          "base_uri": "https://localhost:8080/",
          "height": 204
        }
      },
      "source": [
        "df.head()"
      ],
      "execution_count": 0,
      "outputs": [
        {
          "output_type": "execute_result",
          "data": {
            "text/html": [
              "<div>\n",
              "<style scoped>\n",
              "    .dataframe tbody tr th:only-of-type {\n",
              "        vertical-align: middle;\n",
              "    }\n",
              "\n",
              "    .dataframe tbody tr th {\n",
              "        vertical-align: top;\n",
              "    }\n",
              "\n",
              "    .dataframe thead th {\n",
              "        text-align: right;\n",
              "    }\n",
              "</style>\n",
              "<table border=\"1\" class=\"dataframe\">\n",
              "  <thead>\n",
              "    <tr style=\"text-align: right;\">\n",
              "      <th></th>\n",
              "      <th>Average_Cost</th>\n",
              "      <th>Minimum_Order</th>\n",
              "      <th>Rating</th>\n",
              "      <th>Votes</th>\n",
              "      <th>Reviews</th>\n",
              "      <th>Delivery_Time</th>\n",
              "    </tr>\n",
              "  </thead>\n",
              "  <tbody>\n",
              "    <tr>\n",
              "      <th>0</th>\n",
              "      <td>200.0</td>\n",
              "      <td>50.0</td>\n",
              "      <td>3.5</td>\n",
              "      <td>12.0</td>\n",
              "      <td>4.0</td>\n",
              "      <td>30.0</td>\n",
              "    </tr>\n",
              "    <tr>\n",
              "      <th>1</th>\n",
              "      <td>100.0</td>\n",
              "      <td>50.0</td>\n",
              "      <td>3.5</td>\n",
              "      <td>11.0</td>\n",
              "      <td>4.0</td>\n",
              "      <td>30.0</td>\n",
              "    </tr>\n",
              "    <tr>\n",
              "      <th>2</th>\n",
              "      <td>150.0</td>\n",
              "      <td>50.0</td>\n",
              "      <td>3.6</td>\n",
              "      <td>99.0</td>\n",
              "      <td>30.0</td>\n",
              "      <td>65.0</td>\n",
              "    </tr>\n",
              "    <tr>\n",
              "      <th>3</th>\n",
              "      <td>250.0</td>\n",
              "      <td>99.0</td>\n",
              "      <td>3.7</td>\n",
              "      <td>176.0</td>\n",
              "      <td>95.0</td>\n",
              "      <td>30.0</td>\n",
              "    </tr>\n",
              "    <tr>\n",
              "      <th>4</th>\n",
              "      <td>200.0</td>\n",
              "      <td>99.0</td>\n",
              "      <td>3.2</td>\n",
              "      <td>521.0</td>\n",
              "      <td>235.0</td>\n",
              "      <td>65.0</td>\n",
              "    </tr>\n",
              "  </tbody>\n",
              "</table>\n",
              "</div>"
            ],
            "text/plain": [
              "   Average_Cost  Minimum_Order  Rating  Votes  Reviews  Delivery_Time\n",
              "0         200.0           50.0     3.5   12.0      4.0           30.0\n",
              "1         100.0           50.0     3.5   11.0      4.0           30.0\n",
              "2         150.0           50.0     3.6   99.0     30.0           65.0\n",
              "3         250.0           99.0     3.7  176.0     95.0           30.0\n",
              "4         200.0           99.0     3.2  521.0    235.0           65.0"
            ]
          },
          "metadata": {
            "tags": []
          },
          "execution_count": 26
        }
      ]
    },
    {
      "cell_type": "code",
      "metadata": {
        "id": "UH8a-lzZoUbl",
        "colab_type": "code",
        "colab": {}
      },
      "source": [
        "# Calculate Z-score for outlier\n",
        "z = np.abs(stats.zscore(df))\n",
        "df = df[(z < 3).all(axis=1)]"
      ],
      "execution_count": 0,
      "outputs": []
    },
    {
      "cell_type": "code",
      "metadata": {
        "id": "VUjI3QGj2DQH",
        "colab_type": "code",
        "colab": {}
      },
      "source": [
        "# Normalize by using log (+1 for avoid log0)\n",
        "df = np.log(df + 1)"
      ],
      "execution_count": 0,
      "outputs": []
    },
    {
      "cell_type": "code",
      "metadata": {
        "id": "IvLpeA8A1spd",
        "colab_type": "code",
        "outputId": "e965a5bc-5f02-491b-a462-c76e2df8e21e",
        "colab": {
          "base_uri": "https://localhost:8080/",
          "height": 607
        }
      },
      "source": [
        "# Plot histogram after clean outlier and normalize\n",
        "df.hist(bins=20,figsize=(15,10),grid=False);"
      ],
      "execution_count": 0,
      "outputs": [
        {
          "output_type": "display_data",
          "data": {
            "image/png": "[encoded data removed]",
            "text/plain": [
              "<Figure size 1080x720 with 6 Axes>"
            ]
          },
          "metadata": {
            "tags": []
          }
        }
      ]
    },
    {
      "cell_type": "code",
      "metadata": {
        "id": "Lvl4M6It2uPM",
        "colab_type": "code",
        "colab": {}
      },
      "source": [
        "# Select x and y to train model\n",
        "x_train = df[['Average_Cost', 'Minimum_Order', 'Rating', 'Votes', 'Reviews']]\n",
        "y_train = df['Delivery_Time']"
      ],
      "execution_count": 0,
      "outputs": []
    },
    {
      "cell_type": "code",
      "metadata": {
        "id": "GU3rKcST3YcE",
        "colab_type": "code",
        "colab": {}
      },
      "source": [
        "# Import test data\n",
        "xlsx = pd.ExcelFile('Data_Test.xlsx')\n",
        "df_test = pd.read_excel(xlsx)"
      ],
      "execution_count": 0,
      "outputs": []
    },
    {
      "cell_type": "code",
      "metadata": {
        "id": "fyrd-v3K4Dy5",
        "colab_type": "code",
        "colab": {}
      },
      "source": [
        "# Clean str data in test\n",
        "df_test.Average_Cost = df_test.Average_Cost.apply(f1)\n",
        "df_test.Average_Cost = df_test.Average_Cost.apply(f2)\n",
        "df_test.Average_Cost = df_test.Average_Cost.apply(f3)\n",
        "df_test.Average_Cost = df_test.Average_Cost.apply(f4)\n",
        "df_test.Minimum_Order = df_test.Minimum_Order.apply(f1)\n",
        "df_test.Minimum_Order = df_test.Minimum_Order.apply(f3)\n",
        "df_test.Minimum_Order = df_test.Minimum_Order.apply(f4)\n",
        "df_test.Rating = df_test.Rating.apply(f5)\n",
        "df_test.Rating = df_test.Rating.apply(f6)\n",
        "df_test.Rating = df_test.Rating.apply(f7)\n",
        "df_test.Rating = df_test.Rating.apply(f8)\n",
        "df_test.Rating = df_test.Rating.apply(f4)\n",
        "df_test.Votes = df_test.Votes.apply(f10)\n",
        "df_test.Votes = df_test.Votes.apply(f4)\n",
        "df_test.Reviews = df_test.Reviews.apply(f11)\n",
        "df_test.Reviews = df_test.Reviews.apply(f4)"
      ],
      "execution_count": 0,
      "outputs": []
    },
    {
      "cell_type": "code",
      "metadata": {
        "id": "qtZW5rcU45N5",
        "colab_type": "code",
        "colab": {}
      },
      "source": [
        "# Select only the same features as training data\n",
        "x_test = df_test[['Average_Cost', 'Minimum_Order',\n",
        "                  'Rating', 'Votes', 'Reviews']]"
      ],
      "execution_count": 0,
      "outputs": []
    },
    {
      "cell_type": "code",
      "metadata": {
        "id": "OX6LbrLn4qdD",
        "colab_type": "code",
        "colab": {}
      },
      "source": [
        "# Take log\n",
        "x_test = np.log(x_test + 1)"
      ],
      "execution_count": 0,
      "outputs": []
    },
    {
      "cell_type": "code",
      "metadata": {
        "id": "IjKuPcmM2O2X",
        "colab_type": "code",
        "colab": {}
      },
      "source": [
        "# Create linear regession model\n",
        "lr = LinearRegression()\n",
        "model = lr.fit(x_train,y_train)"
      ],
      "execution_count": 0,
      "outputs": []
    },
    {
      "cell_type": "code",
      "metadata": {
        "id": "Ijl_PhFj3O9o",
        "colab_type": "code",
        "colab": {}
      },
      "source": [
        "# Prediction\n",
        "pred_y = model.predict(x_test)\n",
        "pred_y = np.exp(pred_y) - 1"
      ],
      "execution_count": 0,
      "outputs": []
    },
    {
      "cell_type": "code",
      "metadata": {
        "id": "Hk3M4C336LuB",
        "colab_type": "code",
        "colab": {}
      },
      "source": [
        "# Round pred_y to 5 or 10\n",
        "for i in range(len(pred_y)):\n",
        "  if (pred_y[i]%5 >= 2.5):\n",
        "    pred_y[i] = pred_y[i] + (5-pred_y[i]%5)\n",
        "  else:\n",
        "    pred_y[i] = pred_y[i] - (pred_y[i]%5)\n"
      ],
      "execution_count": 0,
      "outputs": []
    },
    {
      "cell_type": "code",
      "metadata": {
        "id": "EVaJijpn8xH3",
        "colab_type": "code",
        "colab": {}
      },
      "source": [
        "# Create submission data frame and change data type to str\n",
        "predict_df = pd.DataFrame()\n",
        "predict_df['Restaurant'] = df_test['Restaurant']\n",
        "predict_df['Delivery_Time'] = pred_y\n",
        "predict_df = predict_df.astype('str')"
      ],
      "execution_count": 0,
      "outputs": []
    },
    {
      "cell_type": "code",
      "metadata": {
        "id": "IvG8-L_9BvFP",
        "colab_type": "code",
        "colab": {}
      },
      "source": [
        "# Function to change predicted data to the same form as original data\n",
        "f13 = lambda x: x.replace('.0',' minutes')"
      ],
      "execution_count": 0,
      "outputs": []
    },
    {
      "cell_type": "code",
      "metadata": {
        "id": "EOMMNzmF9IPK",
        "colab_type": "code",
        "colab": {}
      },
      "source": [
        "# Apply function\n",
        "predict_df.Delivery_Time = predict_df.Delivery_Time.apply(f13)"
      ],
      "execution_count": 0,
      "outputs": []
    },
    {
      "cell_type": "code",
      "metadata": {
        "id": "u1z10dDDCYFP",
        "colab_type": "code",
        "outputId": "b4f07574-b29c-4e06-c0f6-012a8aca56fa",
        "colab": {
          "base_uri": "https://localhost:8080/",
          "height": 419
        }
      },
      "source": [
        "predict_df"
      ],
      "execution_count": 0,
      "outputs": [
        {
          "output_type": "execute_result",
          "data": {
            "text/html": [
              "<div>\n",
              "<style scoped>\n",
              "    .dataframe tbody tr th:only-of-type {\n",
              "        vertical-align: middle;\n",
              "    }\n",
              "\n",
              "    .dataframe tbody tr th {\n",
              "        vertical-align: top;\n",
              "    }\n",
              "\n",
              "    .dataframe thead th {\n",
              "        text-align: right;\n",
              "    }\n",
              "</style>\n",
              "<table border=\"1\" class=\"dataframe\">\n",
              "  <thead>\n",
              "    <tr style=\"text-align: right;\">\n",
              "      <th></th>\n",
              "      <th>Restaurant</th>\n",
              "      <th>Delivery_Time</th>\n",
              "    </tr>\n",
              "  </thead>\n",
              "  <tbody>\n",
              "    <tr>\n",
              "      <th>0</th>\n",
              "      <td>ID_2842</td>\n",
              "      <td>40 minutes</td>\n",
              "    </tr>\n",
              "    <tr>\n",
              "      <th>1</th>\n",
              "      <td>ID_730</td>\n",
              "      <td>35 minutes</td>\n",
              "    </tr>\n",
              "    <tr>\n",
              "      <th>2</th>\n",
              "      <td>ID_4620</td>\n",
              "      <td>35 minutes</td>\n",
              "    </tr>\n",
              "    <tr>\n",
              "      <th>3</th>\n",
              "      <td>ID_5470</td>\n",
              "      <td>35 minutes</td>\n",
              "    </tr>\n",
              "    <tr>\n",
              "      <th>4</th>\n",
              "      <td>ID_3249</td>\n",
              "      <td>35 minutes</td>\n",
              "    </tr>\n",
              "    <tr>\n",
              "      <th>...</th>\n",
              "      <td>...</td>\n",
              "      <td>...</td>\n",
              "    </tr>\n",
              "    <tr>\n",
              "      <th>2769</th>\n",
              "      <td>ID_6342</td>\n",
              "      <td>35 minutes</td>\n",
              "    </tr>\n",
              "    <tr>\n",
              "      <th>2770</th>\n",
              "      <td>ID_8495</td>\n",
              "      <td>35 minutes</td>\n",
              "    </tr>\n",
              "    <tr>\n",
              "      <th>2771</th>\n",
              "      <td>ID_7122</td>\n",
              "      <td>35 minutes</td>\n",
              "    </tr>\n",
              "    <tr>\n",
              "      <th>2772</th>\n",
              "      <td>ID_2475</td>\n",
              "      <td>30 minutes</td>\n",
              "    </tr>\n",
              "    <tr>\n",
              "      <th>2773</th>\n",
              "      <td>ID_1595</td>\n",
              "      <td>35 minutes</td>\n",
              "    </tr>\n",
              "  </tbody>\n",
              "</table>\n",
              "<p>2774 rows × 2 columns</p>\n",
              "</div>"
            ],
            "text/plain": [
              "     Restaurant Delivery_Time\n",
              "0       ID_2842    40 minutes\n",
              "1        ID_730    35 minutes\n",
              "2       ID_4620    35 minutes\n",
              "3       ID_5470    35 minutes\n",
              "4       ID_3249    35 minutes\n",
              "...         ...           ...\n",
              "2769    ID_6342    35 minutes\n",
              "2770    ID_8495    35 minutes\n",
              "2771    ID_7122    35 minutes\n",
              "2772    ID_2475    30 minutes\n",
              "2773    ID_1595    35 minutes\n",
              "\n",
              "[2774 rows x 2 columns]"
            ]
          },
          "metadata": {
            "tags": []
          },
          "execution_count": 43
        }
      ]
    },
    {
      "cell_type": "code",
      "metadata": {
        "id": "lhd62GSf8RdM",
        "colab_type": "code",
        "colab": {}
      },
      "source": [
        "# Save to excel\n",
        "predict_df.to_excel('submission.xlsx',  sheet_name='Sheet1', index=False)"
      ],
      "execution_count": 0,
      "outputs": []
    }
  ]
}